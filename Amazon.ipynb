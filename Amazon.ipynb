{
 "cells": [
  {
   "cell_type": "markdown",
   "metadata": {},
   "source": [
    "> ### Url & Filters Inputs"
   ]
  },
  {
   "cell_type": "code",
   "execution_count": 1,
   "metadata": {},
   "outputs": [],
   "source": [
    "url =\"https://www.amazon.com/dp/B07XWGWPH5?th=1\"\n",
    "\n",
    "filter_type_list = {'all reviews': 0, 'varified purchase': 1}\n",
    "filtertype = filter_type_list['all reviews']\n",
    "\n",
    "filter_rating_list = {'5 stars': 1,'4 stars': 2,'3 stars': 3,'2 stars': 4,'1 star': 5,'positive': 6,'critical': 7}\n",
    "stars = filter_rating_list['1 star']\n",
    "\n",
    "filter_version_list = {'all': 0, 'version: Blue Quantum |Style: N200': 1}\n",
    "version = filter_version_list['version: Blue Quantum |Style: N200']\n",
    "\n",
    "filter_formate_list = {'all': 0, 'non text': 1}\n",
    "formate = filter_formate_list['all']"
   ]
  },
  {
   "cell_type": "markdown",
   "metadata": {},
   "source": [
    "> ### Dependancies Cell"
   ]
  },
  {
   "cell_type": "code",
   "execution_count": 2,
   "metadata": {},
   "outputs": [],
   "source": [
    "import re\n",
    "from selenium import webdriver\n",
    "from selenium.webdriver.common.keys import Keys\n",
    "from selenium.webdriver.common.by import By\n",
    "from selenium.webdriver.support.ui import WebDriverWait\n",
    "from selenium.webdriver.support import expected_conditions as EC\n",
    "from selenium.webdriver import Firefox\n",
    "from selenium.webdriver.common.action_chains import ActionChains\n",
    "from selenium.webdriver.support.events import EventFiringWebDriver, AbstractEventListener\n",
    "from selenium.common.exceptions import NoSuchElementException\n",
    "from selenium.webdriver.support.wait import WebDriverWait\n",
    "from selenium.webdriver.firefox.options import Options\n",
    "Firefox_options = Options()\n",
    "#Firefox_options.add_argument(\"--disable-extensions\")\n",
    "Firefox_options.add_argument(\"--disable-gpu\")\n",
    "Firefox_options.add_argument(\"--headless\")\n",
    "Firefox_options.add_argument(\"--start-maximized\")\n",
    "# Firefox_options.headless = True # also works\n",
    "import time\n",
    "from time import sleep\n",
    "import pandas as pd\n",
    "import numpy as np\n"
   ]
  },
  {
   "cell_type": "markdown",
   "metadata": {},
   "source": [
    "> ### Reviews Scraper"
   ]
  },
  {
   "cell_type": "code",
   "execution_count": 3,
   "metadata": {},
   "outputs": [
    {
     "name": "stdout",
     "output_type": "stream",
     "text": [
      "done\n"
     ]
    }
   ],
   "source": [
    "driver = webdriver.Firefox(options=Firefox_options)\n",
    "# driver = webdriver.Firefox()\n",
    "actions = ActionChains(driver)\n",
    "driver.get(url)\n",
    "\n",
    "# see all reviews\n",
    "all_reviews = WebDriverWait(driver, 10).until(\n",
    "    EC.presence_of_element_located((By.LINK_TEXT, 'See all reviews')))\n",
    "all_reviews.click()\n",
    "\n",
    "# purchase varification\n",
    "filter_type = driver.find_element(By.ID, 'a-autoid-4-announce')\n",
    "filter_type.click()\n",
    "filter_type_ = driver.find_element(\n",
    "    By.ID, f'reviewer-type-dropdown_{filtertype}')\n",
    "filter_type_.click()\n",
    "\n",
    "# reviews rating\n",
    "filter_ratineg = driver.find_element(By.ID, 'a-autoid-5-announce')\n",
    "filter_ratineg.click()\n",
    "filter_ratineg_ = driver.find_element(By.ID, f'star-count-dropdown_{stars}')\n",
    "filter_ratineg_.click()\n",
    "\n",
    "# reveiwed version\n",
    "filter_version = driver.find_element(By.ID, 'a-autoid-6-announce')\n",
    "filter_version.click()\n",
    "filter_version_ = driver.find_element(By.ID, f'format-type-dropdown_{version}')\n",
    "filter_version_.click()\n",
    "\n",
    "# reveiw media (text or non text)\n",
    "filter_formate = driver.find_element(By.ID, 'a-autoid-7-announce')\n",
    "filter_formate.click()\n",
    "filter_formate_ = driver.find_element(By.ID, f'media-type-dropdown_{formate}')\n",
    "filter_formate_.click()\n",
    "\n",
    "result_list = []\n",
    "while True:\n",
    "\n",
    "    page_loaded = False\n",
    "    while page_loaded == False:\n",
    "        try:\n",
    "            sleep(0.02)\n",
    "            results_container = driver.find_element(By.ID, 'cm_cr-review_list')\n",
    "            results = results_container.find_elements(\n",
    "                By.CSS_SELECTOR, 'div[class=\"a-section celwidget\"]')\n",
    "            end_of_the_page = driver.find_element(By.ID, 'sis_pixel_r2')\n",
    "            page_loaded = True\n",
    "        except:\n",
    "            page_loaded = False\n",
    "\n",
    "    for R in results:\n",
    "        # customer's name\n",
    "        name = R.find_element(By.TAG_NAME, 'div').text\n",
    "\n",
    "        # Review Rating\n",
    "        rating_E = R.find_element(\n",
    "            By.CLASS_NAME, 'a-icon-alt').get_attribute('innerHTML')\n",
    "        rating = rating_E[:rating_E.index(\" \")]\n",
    "\n",
    "        # rewiew title\n",
    "        review_title_E = R.find_element(\n",
    "            By.CSS_SELECTOR, 'a[data-hook=\"review-title\"]').get_attribute('innerHTML')\n",
    "        review_title = review_title_E[review_title_E.index(\n",
    "            \">\")+1:review_title_E.index('</')]\n",
    "\n",
    "        # date and country of the review\n",
    "        T_and_P = R.find_element(\n",
    "            By.CSS_SELECTOR, 'span[data-hook=\"review-date\"]').get_attribute('innerHTML').split(\" on \")\n",
    "        Time = T_and_P[1]\n",
    "        Place = (T_and_P[0])[(T_and_P[0]).index('in ')+3:]\n",
    "\n",
    "        # reiw comment\n",
    "        comment = R.find_element(\n",
    "            By.CSS_SELECTOR, 'span[class=\"a-size-base review-text review-text-content\"]').text\n",
    "\n",
    "        # purchase varification\n",
    "        try:\n",
    "            varification = R.find_element(\n",
    "                By.CSS_SELECTOR, 'span[data-hook=\"avp-badge\"]').text.split(\" \")[0]\n",
    "        except:\n",
    "            varification = 'not varified'\n",
    "\n",
    "        review = {\"Customer's Name\": name, \"Review Rating\": rating, \"Rewiew Title\": review_title,\n",
    "                  \"Review Country\": Place, \"Review Date\": Time, \"Comment\": comment,\n",
    "                  \"purchase Type\": varification}\n",
    "        result_list.append(review)\n",
    "\n",
    "        # next page element\n",
    "        next_page_E = driver.find_element(By.ID, 'cm_cr-pagination_bar')\n",
    "        next_page = next_page_E.find_element(By.CLASS_NAME, 'a-last')\n",
    "        \n",
    "    try:\n",
    "        next = next_page.find_element(By.TAG_NAME, 'a')# insures that the next page button has a link and activate\n",
    "        next_page.click()\n",
    "        driver.switch_to.default_content()\n",
    "    except:\n",
    "        break\n",
    "    sleep(1)\n",
    "\n",
    "\n",
    "main_df = pd.DataFrame(result_list)\n",
    "driver.quit()\n",
    "print(\"done\")\n"
   ]
  },
  {
   "cell_type": "code",
   "execution_count": 4,
   "metadata": {},
   "outputs": [
    {
     "name": "stdout",
     "output_type": "stream",
     "text": [
      "<class 'pandas.core.frame.DataFrame'>\n",
      "RangeIndex: 83 entries, 0 to 82\n",
      "Data columns (total 7 columns):\n",
      " #   Column           Non-Null Count  Dtype \n",
      "---  ------           --------------  ----- \n",
      " 0   Customer's Name  83 non-null     object\n",
      " 1   Review Rating    83 non-null     object\n",
      " 2   Rewiew Title     83 non-null     object\n",
      " 3   Review Country   83 non-null     object\n",
      " 4   Review Date      83 non-null     object\n",
      " 5   Comment          83 non-null     object\n",
      " 6   purchase Type    83 non-null     object\n",
      "dtypes: object(7)\n",
      "memory usage: 4.7+ KB\n"
     ]
    }
   ],
   "source": [
    "main_df.info()"
   ]
  },
  {
   "cell_type": "code",
   "execution_count": 5,
   "metadata": {},
   "outputs": [
    {
     "data": {
      "text/html": [
       "<div><div id=c99045d9-82e3-4c21-8b65-7e913e942d8b style=\"display:none; background-color:#9D6CFF; color:white; width:200px; height:30px; padding-left:5px; border-radius:4px; flex-direction:row; justify-content:space-around; align-items:center;\" onmouseover=\"this.style.backgroundColor='#BA9BF8'\" onmouseout=\"this.style.backgroundColor='#9D6CFF'\" onclick=\"window.commands?.execute('create-mitosheet-from-dataframe-output');\">See Full Dataframe in Mito</div> <script> if (window.commands?.hasCommand('create-mitosheet-from-dataframe-output')) document.getElementById('c99045d9-82e3-4c21-8b65-7e913e942d8b').style.display = 'flex' </script> <table border=\"1\" class=\"dataframe\">\n",
       "  <thead>\n",
       "    <tr style=\"text-align: right;\">\n",
       "      <th></th>\n",
       "      <th>Customer's Name</th>\n",
       "      <th>Review Rating</th>\n",
       "      <th>Rewiew Title</th>\n",
       "      <th>Review Country</th>\n",
       "      <th>Review Date</th>\n",
       "      <th>Comment</th>\n",
       "      <th>purchase Type</th>\n",
       "    </tr>\n",
       "  </thead>\n",
       "  <tbody>\n",
       "    <tr>\n",
       "      <th>77</th>\n",
       "      <td>LouisianaHotsauc</td>\n",
       "      <td>1.0</td>\n",
       "      <td>Do NOT buy!!!</td>\n",
       "      <td>the United States</td>\n",
       "      <td>December 27, 2021</td>\n",
       "      <td>Lags and freezes far too much also overheats makes up reasons not to charge itself and something weird is always happening with the camera when im live streaming or video chatting it flickers light and dark by itself its annoying and inconvenient 😑i should have waited and got what I really wanted 🙄</td>\n",
       "      <td>not varified</td>\n",
       "    </tr>\n",
       "    <tr>\n",
       "      <th>78</th>\n",
       "      <td>Ben</td>\n",
       "      <td>1.0</td>\n",
       "      <td>Many years later and still making junk</td>\n",
       "      <td>the United States</td>\n",
       "      <td>October 13, 2021</td>\n",
       "      <td>I've had OnePlus devices in the past but took a break from them for awhile. I thought I'd give this phone a try being in lower cost range and that maybe OnePlus had improved over the years. Needless to say, they have not. The software is stable but it isn't anything special, I still prefer stock Android. But about the phone...\\nCamera is awful even in ideal lighting. No notification light. No repeat always on notifications. No always on clock? A bit slower than I expect but that's also because it's ALWAYS closing apps and they have to reopen. I literally cannot switch from one app to another without the first closing.\\n\\nYou're better off getting an older Galaxy for the same price. The galaxy will be significantly better.</td>\n",
       "      <td>not varified</td>\n",
       "    </tr>\n",
       "    <tr>\n",
       "      <th>79</th>\n",
       "      <td>Amazon Customer</td>\n",
       "      <td>1.0</td>\n",
       "      <td>hyped up garbage</td>\n",
       "      <td>the United States</td>\n",
       "      <td>October 3, 2021</td>\n",
       "      <td>probably the worst phone I've had. screens more brittle than glass even with a protector, the screens leds will bug out while watching videos the battery is about the same as every average phone. the feel of the phone in your hand is undesirable. being a left handed the touch print being on the right side of the phones case makes everything awkward and a pain to deal with if I need to unlock my phone while doing something. the camera is less than average quality you're better off buying a phone from 2013 if you want a decent camera on the damn thing. the only positive feature I can say about this junk is the zoom range to quality of the picture that comes from it isnt all bad. besides that not worth it at all and while I got mine in store from T-mobile my opinion remains the same about this phone as the price for google pixel 3a is significantly better and much better quality than cheap Chinese junk.</td>\n",
       "      <td>not varified</td>\n",
       "    </tr>\n",
       "    <tr>\n",
       "      <th>80</th>\n",
       "      <td>SB</td>\n",
       "      <td>1.0</td>\n",
       "      <td>Make you nuts.</td>\n",
       "      <td>the United States</td>\n",
       "      <td>April 6, 2022</td>\n",
       "      <td>Never had such an intrusive pain in the ass phone. Notifications for every little darn thing Non-Stop. Just do your damn job and be a phone I sent it back</td>\n",
       "      <td>Verified</td>\n",
       "    </tr>\n",
       "    <tr>\n",
       "      <th>81</th>\n",
       "      <td>Afrochique</td>\n",
       "      <td>1.0</td>\n",
       "      <td>Phone was not unlocked and was not us version</td>\n",
       "      <td>the United States</td>\n",
       "      <td>September 17, 2021</td>\n",
       "      <td>Received phone. Unable to activate it with TMobile due to phone not being compatible. Description of phone is incorrect. Was told it is not US version.</td>\n",
       "      <td>Verified</td>\n",
       "    </tr>\n",
       "  </tbody>\n",
       "</table></div>"
      ],
      "text/plain": [
       "     Customer's Name Review Rating  \\\n",
       "77  LouisianaHotsauc           1.0   \n",
       "78               Ben           1.0   \n",
       "79   Amazon Customer           1.0   \n",
       "80                SB           1.0   \n",
       "81        Afrochique           1.0   \n",
       "\n",
       "                                     Rewiew Title     Review Country  \\\n",
       "77                                  Do NOT buy!!!  the United States   \n",
       "78         Many years later and still making junk  the United States   \n",
       "79                               hyped up garbage  the United States   \n",
       "80                                 Make you nuts.  the United States   \n",
       "81  Phone was not unlocked and was not us version  the United States   \n",
       "\n",
       "           Review Date                                            Comment  \\\n",
       "77   December 27, 2021  Lags and freezes far too much also overheats m...   \n",
       "78    October 13, 2021  I've had OnePlus devices in the past but took ...   \n",
       "79     October 3, 2021  probably the worst phone I've had. screens mor...   \n",
       "80       April 6, 2022  Never had such an intrusive pain in the ass ph...   \n",
       "81  September 17, 2021  Received phone. Unable to activate it with TMo...   \n",
       "\n",
       "   purchase Type  \n",
       "77  not varified  \n",
       "78  not varified  \n",
       "79  not varified  \n",
       "80      Verified  \n",
       "81      Verified  "
      ]
     },
     "execution_count": 5,
     "metadata": {},
     "output_type": "execute_result"
    }
   ],
   "source": [
    "main_df.tail()"
   ]
  },
  {
   "cell_type": "markdown",
   "metadata": {},
   "source": [
    "> ### Saving The Output"
   ]
  },
  {
   "cell_type": "code",
   "execution_count": 6,
   "metadata": {},
   "outputs": [],
   "source": [
    "main_df.to_csv('Amazon test.csv', index = False)"
   ]
  },
  {
   "cell_type": "code",
   "execution_count": null,
   "metadata": {},
   "outputs": [],
   "source": []
  }
 ],
 "metadata": {
  "kernelspec": {
   "display_name": "Python 3.6.3 64-bit",
   "language": "python",
   "name": "python3"
  },
  "language_info": {
   "codemirror_mode": {
    "name": "ipython",
    "version": 3
   },
   "file_extension": ".py",
   "mimetype": "text/x-python",
   "name": "python",
   "nbconvert_exporter": "python",
   "pygments_lexer": "ipython3",
   "version": "3.6.3"
  },
  "orig_nbformat": 4,
  "vscode": {
   "interpreter": {
    "hash": "7aa731c368081d82b100ed2cc0276b2bf551f3c8feadedee7a0da391d7a1ac37"
   }
  }
 },
 "nbformat": 4,
 "nbformat_minor": 2
}
